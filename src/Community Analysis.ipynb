{
 "cells": [
  {
   "cell_type": "markdown",
   "metadata": {},
   "source": [
    "## Libraries"
   ]
  },
  {
   "cell_type": "code",
   "execution_count": null,
   "metadata": {},
   "outputs": [],
   "source": [
    "import networkx as nx\n",
    "import os\n",
    "import seaborn as sns\n",
    "import numpy as np\n",
    "import pandas as pd\n",
    "import matplotlib.pyplot as plt\n",
    "from tqdm.notebook import tqdm\n",
    "import ast\n",
    "from PIL import Image\n",
    "from wordcloud import WordCloud, STOPWORDS, ImageColorGenerator\n",
    "from nltk.tokenize import TweetTokenizer\n",
    "import re\n",
    "import random\n",
    "import pickle\n",
    "\n",
    "# allowing the plot in line for seaborn\n",
    "%matplotlib inline\n",
    "plt.style.use('seaborn')\n",
    "\n",
    "# enabling outlines line in histogram \n",
    "plt.rcParams[\"patch.force_edgecolor\"] = True"
   ]
  },
  {
   "cell_type": "markdown",
   "metadata": {},
   "source": [
    "## Function"
   ]
  },
  {
   "cell_type": "code",
   "execution_count": null,
   "metadata": {},
   "outputs": [],
   "source": [
    "def save_img(title, name):    \n",
    "    plt.savefig(f'/Users/villons/Desktop/echo-chamers/src/analysis_images/{name}/{title}.png', \n",
    "                dpi = 300, quality = 95, format = 'png', pad_inches = 1000)\n",
    "    \n",
    "def community_pie_chart(graph, comm_type, name, study):\n",
    "    \n",
    "    communities = dict()\n",
    "    for node in graph.nodes(data=True):\n",
    "        if not(f'Comunità: {node[1][comm_type]}' in communities):\n",
    "            communities[f'Comunità: {node[1][comm_type]}'] = 1\n",
    "        else:\n",
    "            communities[f'Comunità: {node[1][comm_type]}'] += 1\n",
    "            \n",
    "            \n",
    "    com = list(communities.keys())\n",
    "    com_comp = list(communities.values())\n",
    "    colors = ['#0045b5', '#b50000']\n",
    "    if com[0] != 'Comunità: 1':\n",
    "        com[0], com[1] = com[1], com[0]\n",
    "        com_comp[0], com_comp[1] = com_comp[1], com_comp[0]\n",
    "\n",
    "    print(communities)\n",
    "    \n",
    "    fig, ax = plt.subplots()\n",
    "    ax.pie(com_comp, labels = com, explode = [0, 0.1], shadow=True,\n",
    "        startangle = 90, colors = colors, wedgeprops={'edgecolor': 'black'}, autopct='%1.1f%%')\n",
    "    ax.set_title(f'Suddivisione community per {name}')\n",
    "    save_img(f'Suddivisione community per {name}', study)\n",
    "    plt.show() \n",
    "        \n",
    "def create_graph_df(graph):\n",
    "    graph_df = pd.DataFrame(columns=['username', 'sentiment', 'weightComm', 'sentimentComm', 'topicComm', 'hybridComm', 'tweetTopic'])\n",
    "    for node in tqdm(graph.nodes(data=True)):\n",
    "        new_row = [node[0], node[1]['sentiment'], node[1]['weightComm'], node[1]['sentimentComm'],\n",
    "                   node[1]['topicComm'], node[1]['hybridComm'], node[1]['tweetTopic']]\n",
    "        graph_df.loc[len(graph_df)] = new_row\n",
    "    return graph_df\n",
    "\n",
    "def add_to_dictionary(dictionary, key):\n",
    "    if key in dictionary:\n",
    "        dictionary[key] += 1\n",
    "    else:\n",
    "        dictionary[key] = 1\n",
    "    return dictionary\n",
    "\n",
    "def plot_degree_distribution(graph, name, opt):\n",
    "    degree_distribution = pd.DataFrame(columns=['degree_value', 'community', 'towards', 'placeholder'])\n",
    "        \n",
    "    for node in tqdm(graph.nodes(data=True)):\n",
    "        if opt == 0:\n",
    "            title = f'Distribuzione per {name}'\n",
    "                \n",
    "            out_edges = list(graph.out_edges(node[0], data=True))\n",
    "            in_edges = list(graph.in_edges(node[0], data=True))\n",
    "            out_degree_values = 0\n",
    "            in_degree_values = 0\n",
    "            \n",
    "            comm = node[1]['sentimentComm']\n",
    "            \n",
    "            for edge in out_edges:\n",
    "                out_degree_values += edge[2]['weight']\n",
    "\n",
    "            for edge in in_edges:\n",
    "                in_degree_values += edge[2]['weight']\n",
    "\n",
    "            degree_distribution.loc[len(degree_distribution)] = [out_degree_values, comm, 'outdegree', '']\n",
    "            degree_distribution.loc[len(degree_distribution)] = [in_degree_values, comm, 'indegree', '']\n",
    "        else:\n",
    "            graph_name = graph.name.split('graph')[1]\n",
    "            title = f'Distribuzione per {graph_name}'\n",
    "            edges = list(graph.edges(node[0], data=True))\n",
    "            edge_degree = 0\n",
    "            comm = node[1]['weightComm']\n",
    "            for edge in edges:\n",
    "                edge_degree += edge[2]['weight']\n",
    "            degree_distribution.loc[len(degree_distribution)] = [edge_degree, comm, 'total_degree', '']\n",
    "            \n",
    "    degree_value = degree_distribution['degree_value']\n",
    "    removed_outliers = degree_value.between(degree_value.quantile(.25), degree_value.quantile(0.85))\n",
    "    index_names = degree_distribution[~removed_outliers].index\n",
    "    degree_distribution.drop(index_names, inplace=True)\n",
    "    degree_distribution['degree_value'] = degree_distribution['degree_value'].apply(lambda x: float(x))\n",
    "    \n",
    "\n",
    "    fig, ax = plt.subplots()\n",
    "    if opt == 1:\n",
    "        x_value = 'placeholder'\n",
    "    else:\n",
    "        x_value = 'towards'\n",
    "    \n",
    "    ax = sns.violinplot(x=x_value, y='degree_value', hue='community', data=degree_distribution, split=True, scale='count', bw=0.1)\n",
    "    ax.set_title(title)\n",
    "    ax.set_xlabel('Distribuzione di grado')\n",
    "    ax.set_ylabel('Numero di tweets')\n",
    "    ax.legend(title='Community')\n",
    "    save_img(title, name)\n",
    "    plt.show()\n",
    "    \n",
    "def plot_sentiment_distribution(compact_graph, name, sentiment_df):\n",
    "    \n",
    "    fig, ax = plt.subplots()\n",
    "    ax = sns.distplot(sentiment_df['sentiment'], hist=False, label='Sentimento su intero grafo')\n",
    "    title = f'Distribuzione sentiment su grafo {name}'\n",
    "    ax.set_title(title)\n",
    "    ax.set_xlabel('Score sentimento')\n",
    "    ax.set_ylabel('Distribuzione probabilità')\n",
    "    ax.legend()\n",
    "    save_img(title, name)\n",
    "    plt.show()\n",
    "    \n",
    "    columns = sentiment_df.columns[2:len(sentiment_df.columns)-1]\n",
    "    \n",
    "    titles = ['strutturale', 'sentiment', 'topic', 'hybrid']\n",
    "    index = 0\n",
    "    for column in columns:\n",
    "        title = f'Distribuzione sentimento nelle communities dato approccio {titles[index]}'\n",
    "        sentiment_df_weight_0 = sentiment_df.query(f'{column} == 0')\n",
    "        sentiment_df_weight_1 = sentiment_df.query(f'{column} == 1')\n",
    "        fig, ax = plt.subplots()\n",
    "        ax = sns.distplot(sentiment_df_weight_0['sentiment'], hist=False, label='Sentimento nella community 0')\n",
    "        ax = sns.distplot(sentiment_df_weight_1['sentiment'], hist=False, label='Sentimento nella community 1')\n",
    "        ax.set_title(title)\n",
    "        ax.set_xlabel('Score sentimento')\n",
    "        ax.set_ylabel('Distribuzione probabilità')\n",
    "        ax.legend()\n",
    "        save_img(title, name)\n",
    "        plt.show()\n",
    "        index += 1\n",
    "        \n",
    "def delete_outliers(dataset, field):\n",
    "    \n",
    "    dataset_value = dataset[field]\n",
    "    removed_outliers = dataset_value.between(dataset_value.quantile(.25), dataset_value.quantile(0.85))\n",
    "    index_names = dataset[~removed_outliers].index\n",
    "    dataset = dataset.drop(index_names)\n",
    "    return dataset\n",
    "    \n",
    "def plot_snsdist(metadata, field):\n",
    "    metadata_no_out = delete_outliers(metadata, field)\n",
    "    fig, ax = plt.subplots()\n",
    "    com_0 = metadata_no_out.query('community == \"0\"')\n",
    "    com_1 = metadata_no_out.query('community == \"1\"')\n",
    "    \n",
    "    ax = sns.distplot(com_0[field], hist=False, label=f'{field} community 0')\n",
    "    ax = sns.distplot(com_1[field], hist=False, label=f'{field} community 1')\n",
    "    \n",
    "    title = f'Valutazione {field}'\n",
    "    ax.set_title(title)\n",
    "    ax.set_xlabel(f'{field}')\n",
    "    ax.set_ylabel(f'Distribuzione di probabiltà')\n",
    "    ax.legend()\n",
    "    save_img(title, 'COVID-19')\n",
    "    plt.show()\n",
    "    \n",
    "def get_metadata():\n",
    "    files = os.listdir()\n",
    "    \n",
    "    if 'complete_metadata.csv' not in files:\n",
    "        medatada_df = pd.DataFrame(columns=['username', 'created', 'defaultProfile',\n",
    "                                            'DefaultImage', 'description', 'numLikes', \n",
    "                                            'numFollowers', 'numFollowing', 'numGroups', \n",
    "                                            'location', 'numStatuses', 'verified', 'community',\n",
    "                                            'sentiment', 'placeholder'])\n",
    "        for node in tqdm(covid_complete.nodes(data=True)):\n",
    "            row = [node[0]]\n",
    "            if covid_metadata.nodes[node[0]] != {}:\n",
    "                for medatada in covid_metadata.nodes[node[0]]:\n",
    "                    row += [covid_metadata.nodes[node[0]][medatada]]\n",
    "            else:\n",
    "                row += [np.nan]*(len(medatada_df.columns)-4)\n",
    "\n",
    "            row += [node[1]['sentimentComm']]\n",
    "            row += [node[1]['sentiment']]\n",
    "            row += ['']\n",
    "            medatada_df.loc[len(medatada_df)] = row\n",
    "        medatada_df.to_csv('./complete_metadata.csv', index=False, encoding='utf-8')\n",
    "    else:\n",
    "        medatada_df = pd.read_csv('./complete_metadata.csv', dtype=str)\n",
    "    \n",
    "    for field in ['numFollowers', 'numLikes', 'numFollowing', 'numGroups', 'numStatuses']:\n",
    "        medatada_df[field] = medatada_df[field].apply(lambda x: float(x))\n",
    "    \n",
    "    medatada_df['placeholder'] = [' ']*len(medatada_df)\n",
    "    medatada_df.dropna(axis='index', how='any', inplace=True)\n",
    "    \n",
    "    medatada_df['created'] = pd.to_datetime(medatada_df['created'], format='%Y-%m-%d')\n",
    "    \n",
    "    return medatada_df\n",
    "\n",
    "\n",
    "def verified_pie_chart(community, metadata_df):\n",
    "    comm = metadata.query(f'community == \"{community}\"')\n",
    "    verified_dict = dict(comm.verified.value_counts())\n",
    "    del verified_dict['-1']\n",
    "    verified_dict = dict(sorted(verified_dict.items()))\n",
    "    title = f'Account verificati per la community {community}'\n",
    "    \n",
    "    verified = list(verified_dict.keys())\n",
    "    count_ver = list(verified_dict.values())\n",
    "    colors = ['#0045b5', '#b50000']\n",
    "    \n",
    "    fig, ax = plt.subplots()\n",
    "    ax.pie(count_ver, labels = verified, explode = [0, 0.1], shadow=True,\n",
    "        startangle = 90, colors = colors, wedgeprops={'edgecolor': 'black'}, autopct='%1.1f%%')\n",
    "    ax.set_title(title)\n",
    "    save_img(title, 'COVID-19')\n",
    "    plt.show() \n",
    "    \n",
    "def default_pie_chart(community, metadata_df, element, opt = 0):\n",
    "    comm = metadata.query(f'community == \"{community}\"')\n",
    "    if element == 'defaultProfile':\n",
    "        default_dict = dict(comm.defaultProfile.value_counts())\n",
    "        title = f'Profilo di default per utenti community {community}'\n",
    "    elif element == 'DefaultImage':\n",
    "        default_dict = dict(comm.DefaultImage.value_counts())\n",
    "        title = f'Immagine di default per utenti community {community}'\n",
    "        \n",
    "    if opt == 1:\n",
    "        title = f'{title} dati account 2020'\n",
    "    \n",
    "    if '-1' in default_dict:\n",
    "        del default_dict['-1']\n",
    "    default_dict = dict(sorted(default_dict.items()))\n",
    "    \n",
    "    verified = list(default_dict.keys())\n",
    "    count_ver = list(default_dict.values())\n",
    "    colors = ['#0045b5', '#b50000']\n",
    "    \n",
    "    fig, ax = plt.subplots()\n",
    "    ax.pie(count_ver, labels = verified, explode = [0, 0.1], shadow=True,\n",
    "        startangle = 90, colors = colors, wedgeprops={'edgecolor': 'black'}, autopct='%1.1f%%')\n",
    "    ax.set_title(title)\n",
    "    save_img(title, 'COVID-19')\n",
    "    plt.show() \n",
    "    \n",
    "def topic_distribution(graph_df, name):\n",
    "    \n",
    "    titles = ['strutturale', 'sentiment', 'topic', 'hybrid']\n",
    "    cont = 0\n",
    "    \n",
    "    comm_types = list(graph_df.columns)[2:6]\n",
    "    \n",
    "    for comm_type in comm_types:\n",
    "        topic_cont = dict()\n",
    "        topic_cont_0 = dict()\n",
    "        topic_cont_1 = dict()\n",
    "        for _, row in graph_df.iterrows():\n",
    "            topics = ast.literal_eval(row['tweetTopic'])\n",
    "            community = row[f'{comm_type}']\n",
    "            for topic in topics:\n",
    "                topic_cont = add_to_dictionary(topic_cont, topic)\n",
    "                if community == 0:\n",
    "                    topic_cont_0 = add_to_dictionary(topic_cont_0, topic)\n",
    "                else:\n",
    "                    topic_cont_1 = add_to_dictionary(topic_cont_1, topic)\n",
    "                    \n",
    "                \n",
    "        topic_cont = dict(sorted(topic_cont.items()))\n",
    "        topic_cont_0 = dict(sorted(topic_cont_0.items()))\n",
    "        topic_cont_1 = dict(sorted(topic_cont_1.items()))\n",
    "\n",
    "\n",
    "        title = f'Distribuzione topic con approccio {titles[cont]}'\n",
    "\n",
    "        width = 0.25\n",
    "        fig, ax = plt.subplots()\n",
    "        fig.set_size_inches(18.5, 10.5)\n",
    "        x_indexes = np.arange(1, len(topic_cont)+1)\n",
    "        ax.bar(x_indexes - width, topic_cont.values(), width = width, color = '#444444', label = 'Su tutto il grafo')\n",
    "        ax.bar(x_indexes, topic_cont_0.values(), width = width, color = '#5a7d9a', label = 'Community 0')\n",
    "        ax.bar(x_indexes + width, topic_cont_1.values(), width = width, color = '#adad3b', label = 'Community 1')\n",
    "        plt.xticks(ticks=x_indexes, labels=x_indexes)\n",
    "        ax.legend()\n",
    "        ax.set_xlabel('ID dei topic')\n",
    "        ax.set_ylabel('tweet associati ai topic')\n",
    "        ax.set_title(title)\n",
    "        \n",
    "        cont += 1\n",
    "\n",
    "        save_img(title, name)\n",
    "        plt.show()\n",
    "        \n",
    "def plot_hist_2020(meta_2020):\n",
    "    com_0 = meta_2020.query('community == \"0\"')\n",
    "    com_1 = meta_2020.query('community == \"1\"')\n",
    "    \n",
    "    title = 'Numerosità account creati nel 2020 in funzione delle community'\n",
    "    fig, ax = plt.subplots()\n",
    "    x_indexes = np.arange(0, 2)\n",
    "    ax.bar(x_indexes, [len(com_0), len(com_1)], width = 0.5)\n",
    "    plt.xticks(ticks=x_indexes, labels=x_indexes)\n",
    "    ax.legend()\n",
    "    ax.set_xlabel('Community')\n",
    "    ax.set_ylabel('# Account creati nel 2020')\n",
    "    ax.set_title(title)\n",
    "    save_img(title, 'COVID-19')\n",
    "    plt.show()\n",
    "    \n",
    "def plot_join_plot(field1, fiel2, metadata, title):\n",
    "\n",
    "    fig, ax = plt.subplots()\n",
    "    ax.set_xlabel(field1)\n",
    "    ax.set_ylabel(fiel2)\n",
    "    ax.set_title(title)\n",
    "    ax = sns.jointplot(x=field1, y=fiel2, data=metadata, color='green', kind='reg')\n",
    "    #save_img(title, 'COVID-19')\n",
    "    plt.show()\n",
    "\n",
    "def delete_outliers(field, df):\n",
    "    values = df[field]\n",
    "    removed_outliers = values.between(values.quantile(.25), values.quantile(0.75))\n",
    "    index_names = df[~removed_outliers].index\n",
    "    df.drop(index_names, inplace=True)\n",
    "    return df\n",
    "    \n",
    "def join_plot(field1, field2, metadata, title):\n",
    "    \n",
    "    metadata_df = delete_outliers(field1, metadata)\n",
    "    metadata_df = delete_outliers(field2, metadata)\n",
    "    \n",
    "    comm_0 = metadata_df.query('community == \"0\"')\n",
    "    comm_1 = metadata_df.query('community == \"1\"')\n",
    "\n",
    "    plot_join_plot(field1, field2, comm_0, title)\n",
    "    plot_join_plot(field1, field2, comm_1, title)"
   ]
  },
  {
   "cell_type": "markdown",
   "metadata": {},
   "source": [
    "## Garimella\n"
   ]
  },
  {
   "cell_type": "code",
   "execution_count": null,
   "metadata": {},
   "outputs": [],
   "source": [
    "os.chdir('/Users/villons/Desktop/echo-chamers/src/data/garimella_data')"
   ]
  },
  {
   "cell_type": "code",
   "execution_count": null,
   "metadata": {},
   "outputs": [],
   "source": [
    "beefban = nx.read_gml('./Graph/beefban.gml')\n",
    "ukraine = nx.read_gml('./Graph/ukraine.gml')\n",
    "kissing_day = nx.read_gml('./Graph/nationalkissingday.gml')"
   ]
  },
  {
   "cell_type": "markdown",
   "metadata": {},
   "source": [
    "#### Pie chart community membership"
   ]
  },
  {
   "cell_type": "code",
   "execution_count": null,
   "metadata": {},
   "outputs": [],
   "source": [
    "community_pie_chart(beefban, 'weightComm', 'BeefBan con approccio strutturale', 'Garimella')\n",
    "community_pie_chart(ukraine, 'weightComm', 'Ukraine con approccio strutturale', 'Garimella')\n",
    "community_pie_chart(kissing_day, 'weightComm', 'Kissingday con approccio strutturale', 'Garimella')"
   ]
  },
  {
   "cell_type": "markdown",
   "metadata": {},
   "source": [
    "#### Degree distribution"
   ]
  },
  {
   "cell_type": "code",
   "execution_count": null,
   "metadata": {},
   "outputs": [],
   "source": [
    "plot_degree_distribution(beefban, 'Garimella', 1)"
   ]
  },
  {
   "cell_type": "code",
   "execution_count": null,
   "metadata": {},
   "outputs": [],
   "source": [
    "plot_degree_distribution(ukraine, 'Garimella', 1)"
   ]
  },
  {
   "cell_type": "code",
   "execution_count": null,
   "metadata": {},
   "outputs": [],
   "source": [
    "plot_degree_distribution(kissing_day, 'Garimella', 1)"
   ]
  },
  {
   "cell_type": "markdown",
   "metadata": {},
   "source": [
    "## Covid-19"
   ]
  },
  {
   "cell_type": "code",
   "execution_count": null,
   "metadata": {},
   "outputs": [],
   "source": [
    "os.chdir('/Users/villons/Desktop/echo-chamers/src/data/corona_virus')"
   ]
  },
  {
   "cell_type": "code",
   "execution_count": null,
   "metadata": {},
   "outputs": [],
   "source": [
    "covid_compact = nx.read_gml('./Graph/Final_Graph_Covid.gml')\n",
    "covid_complete = nx.read_gml('./Graph/Final_DiGraph_Covid.gml')\n",
    "covid_metadata = nx.read_gml('./Graph/Final_DiGraph_Covid_data.gml')"
   ]
  },
  {
   "cell_type": "code",
   "execution_count": null,
   "metadata": {},
   "outputs": [],
   "source": [
    "for node in covid_compact.nodes(data=True):\n",
    "    covid_metadata.nodes[node[0]]['sentimentComm'] = node[1]['sentimentComm']"
   ]
  },
  {
   "cell_type": "code",
   "execution_count": null,
   "metadata": {},
   "outputs": [],
   "source": [
    "covid_19_df = create_graph_df(covid_compact)"
   ]
  },
  {
   "cell_type": "markdown",
   "metadata": {},
   "source": [
    "#### Pie chart community membership"
   ]
  },
  {
   "cell_type": "code",
   "execution_count": null,
   "metadata": {
    "scrolled": true
   },
   "outputs": [],
   "source": [
    "community_pie_chart(covid_compact, 'weightComm', 'COVID-19 con approccio strutturale', 'COVID-19')\n",
    "community_pie_chart(covid_compact, 'sentimentComm', 'COVID-19 con approccio sentiment e strutturale', 'COVID-19')\n",
    "community_pie_chart(covid_compact, 'topicComm', 'COVID-19 con approccio topic e strutturale', 'COVID-19')\n",
    "community_pie_chart(covid_compact, 'hybridComm', 'COVID-19 con approccio ibrido', 'COVID-19')"
   ]
  },
  {
   "cell_type": "markdown",
   "metadata": {},
   "source": [
    "#### Distribution plot different approach"
   ]
  },
  {
   "cell_type": "code",
   "execution_count": null,
   "metadata": {},
   "outputs": [],
   "source": [
    "plot_sentiment_distribution(covid_metadata, 'COVID-19', covid_19_df)"
   ]
  },
  {
   "cell_type": "markdown",
   "metadata": {},
   "source": [
    "#### Topic talking"
   ]
  },
  {
   "cell_type": "code",
   "execution_count": null,
   "metadata": {
    "scrolled": true
   },
   "outputs": [],
   "source": [
    "topic_distribution(covid_19_df, 'COVID-19')"
   ]
  },
  {
   "cell_type": "markdown",
   "metadata": {},
   "source": [
    "#### Degree distribution"
   ]
  },
  {
   "cell_type": "code",
   "execution_count": null,
   "metadata": {},
   "outputs": [],
   "source": [
    "plot_degree_distribution(covid_metadata, 'COVID-19', 0)"
   ]
  },
  {
   "cell_type": "markdown",
   "metadata": {},
   "source": [
    "#### Metadata analysis"
   ]
  },
  {
   "cell_type": "code",
   "execution_count": null,
   "metadata": {},
   "outputs": [],
   "source": [
    "metadata = get_metadata()"
   ]
  },
  {
   "cell_type": "code",
   "execution_count": null,
   "metadata": {},
   "outputs": [],
   "source": [
    "plot_snsdist(metadata, 'numFollowers')"
   ]
  },
  {
   "cell_type": "code",
   "execution_count": null,
   "metadata": {},
   "outputs": [],
   "source": [
    "plot_snsdist(metadata, 'numLikes')"
   ]
  },
  {
   "cell_type": "code",
   "execution_count": null,
   "metadata": {},
   "outputs": [],
   "source": [
    "plot_snsdist(metadata, 'numStatuses')"
   ]
  },
  {
   "cell_type": "code",
   "execution_count": null,
   "metadata": {},
   "outputs": [],
   "source": [
    "verified_pie_chart(\"0\", metadata)\n",
    "verified_pie_chart(\"1\", metadata)"
   ]
  },
  {
   "cell_type": "code",
   "execution_count": null,
   "metadata": {},
   "outputs": [],
   "source": [
    "default_pie_chart('0', metadata, 'DefaultImage')\n",
    "default_pie_chart('1', metadata, 'DefaultImage')"
   ]
  },
  {
   "cell_type": "code",
   "execution_count": null,
   "metadata": {},
   "outputs": [],
   "source": [
    "filt = (metadata['created'] >= '2020')\n",
    "metadata_2020 = metadata.loc[filt]\n",
    "plot_hist_2020(metadata_2020)"
   ]
  },
  {
   "cell_type": "code",
   "execution_count": null,
   "metadata": {},
   "outputs": [],
   "source": [
    "metadata.columns"
   ]
  },
  {
   "cell_type": "code",
   "execution_count": null,
   "metadata": {},
   "outputs": [],
   "source": [
    "def delete_url(tweet):\n",
    "    for i in range(len(tweet)):\n",
    "        tweet[i] = re.sub(r'\\b(http:|www\\.)(?:[^\\s,.!?]|[,.!?](?!\\s))+', '', tweet[i])\n",
    "        tweet[i] = re.sub(r\"http\\S+\", '', tweet[i])\n",
    "        tweet[i] = re.sub(r'http:\\\\*/\\\\*/.*?\\s', '', tweet[i])\n",
    "        tweet[i] = re.sub(r'https:\\\\*/\\\\*/.*?\\s', '', tweet[i])\n",
    "        tweet[i] = re.sub(r\"twitter.(\\w+)\", ' ', tweet[i], flags=re.MULTILINE)\n",
    "        tweet[i] = re.sub(r'://(?:[^\\s,.!?]|[,.!?](?!\\s))+', '', tweet[i])\n",
    "        tweet[i] = re.sub(r\"://\", ' ', tweet[i], flags=re.MULTILINE)\n",
    "        tweet[i] = re.sub(r\"/(\\w+)\", ' ', tweet[i], flags=re.MULTILINE)\n",
    "        tweet[i] = re.sub(r\"#\", '', tweet[i])\n",
    "        tweet[i] = re.sub(r'陈秋实(?:[^\\s,.!?]|[,.!?](?!\\s))+', '', tweet[i])\n",
    "        tweet[i] = re.sub(r'full(?:[^\\s,.!?]|[,.!?](?!\\s))+', '', tweet[i])\n",
    "        tweet[i] = re.sub(r'utm_source(?:[^\\s,.!?]|[,.!?](?!\\s))+', '', tweet[i])\n",
    "        tweet[i] = re.sub(r'utm_medium=(?:[^\\s,.!?]|[,.!?](?!\\s))+', '', tweet[i])\n",
    "        tweet[i] = re.sub(r'=social(?:[^\\s,.!?]|[,.!?](?!\\s))+', '', tweet[i])\n",
    "        tweet[i] = re.sub(r'=web&(?:[^\\s,.!?]|[,.!?](?!\\s))+', '', tweet[i])\n",
    "        tweet[i] = re.sub(r'utm_campaign(?:[^\\s,.!?]|[,.!?](?!\\s))+', '', tweet[i])\n",
    "        tweet[i] = re.sub(r'.html', '', tweet[i])\n",
    "    return tweet\n",
    "\n",
    "def word_cloud(words):\n",
    "    \n",
    "    papers_mask = np.array(Image.open(\"./twitter_mask.png\"))\n",
    "    stopwords = set(STOPWORDS)\n",
    "    stopwords.update(['NoDescription', 'https co'])\n",
    "    wordcloud = WordCloud(width=800, height=400, stopwords=stopwords, background_color=\"white\", \n",
    "                          mode=\"RGBA\", max_words=1000, mask = papers_mask).generate(words)\n",
    "\n",
    "    image_colors = ImageColorGenerator(papers_mask)\n",
    "    \n",
    "    return wordcloud, image_colors\n",
    "\n",
    "def preprocessing(summary):\n",
    "    #with open(\"../../preprocessing/stopwords.txt\", \"rb\") as fp:\n",
    "    #    stop_words = pickle.load(fp)\n",
    "    #stop_words.append('NoDescription')\n",
    "    #stop_words.append('We')\n",
    "    #stop_words.append('new')\n",
    "    \n",
    "    stop_words = {'NoDescription', 'We', 'new', 'New', 'love', 'Love', 'No', 'the', 'The', 'news', 'News'}\n",
    "    summary = delete_url(summary)\n",
    "    tokening = TweetTokenizer(strip_handles=True, reduce_len=True)\n",
    "    summary_series = pd.Series(summary)\n",
    "    summary_tokenized = summary_series.apply(tokening.tokenize)\n",
    "    for sentence in range(len(summary_tokenized)):\n",
    "        #for token in summary_tokenized[sentence]:\n",
    "        #    if 'new' in token:\n",
    "        #        print(f'prima{token}dopo')\n",
    "        #        print(summary_tokenized[sentence])\n",
    "        #        print()\n",
    "                \n",
    "        not_number = [token for token in summary_tokenized[sentence] if not token.isdigit()]\n",
    "        summary_tokenized[sentence] = not_number\n",
    "    summary_tokenized_stop = summary_tokenized.apply(lambda x: [item for item in x if item not in stop_words])\n",
    "    list_done = list(summary_tokenized_stop)\n",
    "    list_done = [item for sublist in list_done for item in sublist]\n",
    "    return list_done\n",
    "\n",
    "def summary_word_cloud(meta_df, title, opt):\n",
    "    \n",
    "    print(opt)\n",
    "    summary = list()\n",
    "    cont = 0\n",
    "\n",
    "        \n",
    "    \n",
    "    for _, row in meta_df.iterrows():\n",
    "        summary.append(row['description'])\n",
    "    summ_clean = preprocessing(summary)\n",
    "            \n",
    "    wordcloud, colors = word_cloud(' '.join(summ_clean))\n",
    "    fig, ax = plt.subplots(figsize=[20,20])\n",
    "        \n",
    "    plt.title(title)\n",
    "    ax.axis(\"off\")\n",
    "    if opt == 0:\n",
    "        ax.imshow(wordcloud.recolor(color_func=grey_color_func), interpolation=\"bilinear\")\n",
    "    elif opt == 1:\n",
    "        ax.imshow(wordcloud.recolor(color_func=red_color_func), interpolation=\"bilinear\")\n",
    "    elif opt == 2:\n",
    "        ax.imshow(wordcloud.recolor(color_func=blue_color_func), interpolation=\"bilinear\")\n",
    "    save_img(title, 'COVID-19')\n",
    "    plt.show()\n",
    "    \n",
    "\n",
    "# 213, 82, 42 --> blue\n",
    "# 213, 63, 5 --> black\n",
    "# 0, 98, 44 --> red\n",
    "\n",
    "# for total\n",
    "def grey_color_func(word, font_size, position, orientation, random_state=None,\n",
    "                    **kwargs):\n",
    "    return \"hsl(213, 63%, 5%)\"\n",
    "\n",
    "# for community 0\n",
    "def red_color_func(word, font_size, position, orientation, random_state=None,\n",
    "                    **kwargs):\n",
    "    return \"hsl(0, 98%, 44%)\"\n",
    "\n",
    "# for community 1\n",
    "def blue_color_func(word, font_size, position, orientation, random_state=None,\n",
    "                    **kwargs):\n",
    "    return \"hsl(213, 82%, 42%)\""
   ]
  },
  {
   "cell_type": "code",
   "execution_count": null,
   "metadata": {},
   "outputs": [],
   "source": [
    "summary_word_cloud(metadata, 'Words cloud sulle descrizione dei profili utenti data tutto il grafo CODIV-19', 0)\n",
    "comm_0 = metadata.query('community == \"0\"')\n",
    "summary_word_cloud(comm_0, 'Words cloud sulle descrizione dei profili utenti data tutto il grafo CODIV-19 communty 0', 1)\n",
    "comm_1 = metadata.query('community == \"1\"')\n",
    "summary_word_cloud(comm_1, 'Words cloud sulle descrizione dei profili utenti data tutto il grafo CODIV-19 community ', 2)"
   ]
  },
  {
   "cell_type": "markdown",
   "metadata": {},
   "source": [
    "## Vax"
   ]
  },
  {
   "cell_type": "code",
   "execution_count": null,
   "metadata": {},
   "outputs": [],
   "source": [
    "os.chdir('/Users/villons/Desktop/echo-chamers/src/data/vax_no_vax')"
   ]
  },
  {
   "cell_type": "code",
   "execution_count": null,
   "metadata": {},
   "outputs": [],
   "source": [
    "vax_compact = nx.read_gml('Graph/Final_Graph_vax.gml')\n",
    "vax_complete = nx.read_gml('Graph/Final_DiGraph_Vax.gml')"
   ]
  },
  {
   "cell_type": "code",
   "execution_count": null,
   "metadata": {},
   "outputs": [],
   "source": [
    "print(nx.info(vax_complete))"
   ]
  },
  {
   "cell_type": "code",
   "execution_count": null,
   "metadata": {},
   "outputs": [],
   "source": [
    "vaccination_df = create_graph_df(vax_compact)"
   ]
  },
  {
   "cell_type": "code",
   "execution_count": null,
   "metadata": {},
   "outputs": [],
   "source": [
    "print(nx.info(vax_complete))"
   ]
  },
  {
   "cell_type": "markdown",
   "metadata": {},
   "source": [
    "#### Pie chart community membership"
   ]
  },
  {
   "cell_type": "code",
   "execution_count": null,
   "metadata": {},
   "outputs": [],
   "source": [
    "community_pie_chart(vax_compact, 'weightComm', 'Vaccinazioni con approccio strutturale', 'Vaccination')\n",
    "community_pie_chart(vax_compact, 'sentimentComm', 'Vaccinazioni con approccio sentiment e strutturale', 'Vaccination')\n",
    "community_pie_chart(vax_compact, 'topicComm', 'Vaccinazioni con approccio topic e strutturale', 'Vaccination')\n",
    "community_pie_chart(vax_compact, 'hybridComm', 'Vaccinazioni con approccio ibrido', 'Vaccination')"
   ]
  },
  {
   "cell_type": "markdown",
   "metadata": {},
   "source": [
    "#### Distribution plot different approach"
   ]
  },
  {
   "cell_type": "code",
   "execution_count": null,
   "metadata": {},
   "outputs": [],
   "source": [
    "plot_sentiment_distribution(vax_compact, 'Vaccination', vaccination_df)"
   ]
  },
  {
   "cell_type": "markdown",
   "metadata": {},
   "source": [
    "#### Topic talking"
   ]
  },
  {
   "cell_type": "code",
   "execution_count": null,
   "metadata": {},
   "outputs": [],
   "source": [
    "topic_distribution(vaccination_df, 'Vaccination')"
   ]
  },
  {
   "cell_type": "markdown",
   "metadata": {},
   "source": [
    "#### Degree distribution"
   ]
  },
  {
   "cell_type": "code",
   "execution_count": null,
   "metadata": {},
   "outputs": [],
   "source": [
    "plot_degree_distribution(vax_complete, 'Vaccination', 0)"
   ]
  },
  {
   "cell_type": "code",
   "execution_count": null,
   "metadata": {},
   "outputs": [],
   "source": []
  }
 ],
 "metadata": {
  "kernelspec": {
   "display_name": "echo-chamber",
   "language": "python",
   "name": "echo-chamber"
  },
  "language_info": {
   "codemirror_mode": {
    "name": "ipython",
    "version": 3
   },
   "file_extension": ".py",
   "mimetype": "text/x-python",
   "name": "python",
   "nbconvert_exporter": "python",
   "pygments_lexer": "ipython3",
   "version": "3.7.7"
  }
 },
 "nbformat": 4,
 "nbformat_minor": 4
}
