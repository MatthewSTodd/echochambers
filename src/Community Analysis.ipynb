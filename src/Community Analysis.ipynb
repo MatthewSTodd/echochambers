{
 "cells": [
  {
   "cell_type": "markdown",
   "metadata": {},
   "source": [
    "## Libraries"
   ]
  },
  {
   "cell_type": "code",
   "execution_count": null,
   "metadata": {},
   "outputs": [],
   "source": [
    "import networkx as nx\n",
    "import os\n",
    "import seaborn as sns\n",
    "import numpy as np\n",
    "import pandas as pd\n",
    "import matplotlib.pyplot as plt\n",
    "from tqdm.notebook import tqdm\n",
    "import ast\n",
    "\n",
    "# allowing the plot in line for seaborn\n",
    "%matplotlib inline\n",
    "plt.style.use('seaborn')\n",
    "\n",
    "# enabling outlines line in histogram \n",
    "plt.rcParams[\"patch.force_edgecolor\"] = True"
   ]
  },
  {
   "cell_type": "markdown",
   "metadata": {},
   "source": [
    "## Function"
   ]
  },
  {
   "cell_type": "code",
   "execution_count": null,
   "metadata": {},
   "outputs": [],
   "source": [
    "def save_img(title, name):    \n",
    "    plt.savefig(f'/Users/villons/Desktop/echo-chamers/src/analysis_images/{name}/{title}.png', \n",
    "                dpi = 300, quality = 95, format = 'png', pad_inches = 1000)\n",
    "    \n",
    "def community_pie_chart(graph, comm_type, name, study):\n",
    "    \n",
    "    communities = dict()\n",
    "    for node in graph.nodes(data=True):\n",
    "        if not(f'Comunità: {node[1][comm_type]}' in communities):\n",
    "            communities[f'Comunità: {node[1][comm_type]}'] = 1\n",
    "        else:\n",
    "            communities[f'Comunità: {node[1][comm_type]}'] += 1\n",
    "            \n",
    "            \n",
    "    com = list(communities.keys())\n",
    "    com_comp = list(communities.values())\n",
    "    colors = ['#0045b5', '#b50000']\n",
    "    if com[0] != 'Comunità: 1':\n",
    "        com[0], com[1] = com[1], com[0]\n",
    "        com_comp[0], com_comp[1] = com_comp[1], com_comp[0]\n",
    "\n",
    "    print(communities)\n",
    "    \n",
    "    fig, ax = plt.subplots()\n",
    "    ax.pie(com_comp, labels = com, explode = [0, 0.1], shadow=True,\n",
    "        startangle = 90, colors = colors, wedgeprops={'edgecolor': 'black'})\n",
    "    ax.set_title(f'Suddivisione community per {name}')\n",
    "    save_img(f'Suddivisione community per {name}', study)\n",
    "    plt.show() \n",
    "        \n",
    "def create_graph_df(graph):\n",
    "    graph_df = pd.DataFrame(columns=['username', 'sentiment', 'weightComm', 'sentimentComm', 'topicComm', 'hybridComm', 'tweetTopic'])\n",
    "    for node in tqdm(graph.nodes(data=True)):\n",
    "        new_row = [node[0], node[1]['sentiment'], node[1]['weightComm'], node[1]['sentimentComm'],\n",
    "                   node[1]['topicComm'], node[1]['hybridComm'], node[1]['tweetTopic']]\n",
    "        graph_df.loc[len(graph_df)] = new_row\n",
    "    return graph_df\n",
    "\n",
    "def add_to_dictionary(dictionary, key):\n",
    "    if key in dictionary:\n",
    "        dictionary[key] += 1\n",
    "    else:\n",
    "        dictionary[key] = 1\n",
    "    return dictionary\n",
    "\n",
    "def topic_distribution(graph_df, name):\n",
    "    \n",
    "    titles = ['strutturale', 'sentiment', 'topic', 'hybrid']\n",
    "    cont = 0\n",
    "    \n",
    "    comm_types = list(graph_df.columns)[2:6]\n",
    "    \n",
    "    for comm_type in comm_types:\n",
    "        topic_cont = dict()\n",
    "        topic_cont_0 = dict()\n",
    "        topic_cont_1 = dict()\n",
    "        for _, row in graph_df.iterrows():\n",
    "            topics = ast.literal_eval(row['tweetTopic'])\n",
    "            community = row[f'{comm_type}']\n",
    "            for topic in topics:\n",
    "                topic_cont = add_to_dictionary(topic_cont, topic)\n",
    "                if community == 0:\n",
    "                    topic_cont_0 = add_to_dictionary(topic_cont_0, topic)\n",
    "                else:\n",
    "                    topic_cont_1 = add_to_dictionary(topic_cont_1, topic)\n",
    "                    \n",
    "                \n",
    "        topic_cont = dict(sorted(topic_cont.items()))\n",
    "        topic_cont_0 = dict(sorted(topic_cont_0.items()))\n",
    "        topic_cont_1 = dict(sorted(topic_cont_1.items()))\n",
    "\n",
    "\n",
    "        title = f'Distribuzione topic con approccio {titles[cont]}'\n",
    "\n",
    "        width = 0.25\n",
    "        fig, ax = plt.subplots()\n",
    "        fig.set_size_inches(18.5, 10.5)\n",
    "        x_indexes = np.arange(1, len(topic_cont)+1)\n",
    "        ax.bar(x_indexes - width, topic_cont.values(), width = width, color = '#444444', label = 'Su tutto il grafo')\n",
    "        ax.bar(x_indexes, topic_cont_0.values(), width = width, color = '#5a7d9a', label = 'Community 0')\n",
    "        ax.bar(x_indexes + width, topic_cont_1.values(), width = width, color = '#adad3b', label = 'Community 1')\n",
    "        plt.xticks(ticks=x_indexes, labels=x_indexes)\n",
    "        ax.legend()\n",
    "        ax.set_xlabel('ID dei topic')\n",
    "        ax.set_ylabel('tweet associati ai topic')\n",
    "        ax.set_title(title)\n",
    "        \n",
    "        cont += 1\n",
    "\n",
    "        save_img(title, name)\n",
    "        plt.show()\n",
    "        \n",
    "def plot_degree_distribution(graph, name):\n",
    "    degree_distribution = pd.DataFrame(columns=['degree_value', 'community', 'towards'])\n",
    "    for node in tqdm(graph.nodes(data=True)):\n",
    "\n",
    "        out_edges = list(graph.out_edges(node[0], data=True))\n",
    "        in_edges = list(graph.in_edges(node[0], data=True))\n",
    "\n",
    "        out_degree_values = 0\n",
    "        in_degree_values = 0\n",
    "\n",
    "        comm = node[1]['sentimentComm']\n",
    "\n",
    "        for edge in out_edges:\n",
    "            out_degree_values += edge[2]['weight']\n",
    "\n",
    "        for edge in in_edges:\n",
    "            in_degree_values += edge[2]['weight']\n",
    "\n",
    "        degree_distribution.loc[len(degree_distribution)] = [out_degree_values, comm, 'outdegree']\n",
    "        degree_distribution.loc[len(degree_distribution)] = [in_degree_values, comm, 'indegree']\n",
    "        \n",
    "    degree_value = degree_distribution['degree_value']\n",
    "    removed_outliers = degree_value.between(degree_value.quantile(.25), degree_value.quantile(.85))\n",
    "    index_names = degree_distribution[~removed_outliers].index\n",
    "    degree_distribution.drop(index_names, inplace=True)\n",
    "    \n",
    "    fig, ax = plt.subplots()\n",
    "    ax = sns.violinplot(x='towards', y='degree_value', hue='community', data=degree_distribution, inner='quartile', split=True, scale='count', bw=0.1)\n",
    "    ax.set_title('Distribuzione indegree e outdegree date le community')\n",
    "    ax.set_xlabel('Tipologia di grado')\n",
    "    ax.set_ylabel('Distribuzione di grado')\n",
    "    ax.legend()\n",
    "    plt.show()\n",
    "    \n",
    "def plot_sentiment_distribution(compact_graph, name, sentiment_df):\n",
    "    \n",
    "    fig, ax = plt.subplots()\n",
    "    ax = sns.distplot(sentiment_df['sentiment'], hist=False, label='Sentimento su intero grafo')\n",
    "    title = f'Distribuzione sentiment su grafo {name}'\n",
    "    ax.set_title(title)\n",
    "    ax.set_xlabel('Score sentimento')\n",
    "    ax.set_ylabel('Distribuzione probabilità')\n",
    "    ax.legend()\n",
    "    save_img(title, name)\n",
    "    plt.show()\n",
    "    \n",
    "    columns = sentiment_df.columns[2:len(sentiment_df.columns)-1]\n",
    "    \n",
    "    titles = ['strutturale', 'sentiment', 'topic', 'hybrid']\n",
    "    index = 0\n",
    "    for column in columns:\n",
    "        title = f'Distribuzione sentimento nelle communities dato approccio {titles[index]}'\n",
    "        sentiment_df_weight_0 = sentiment_df.query(f'{column} == 0')\n",
    "        sentiment_df_weight_1 = sentiment_df.query(f'{column} == 1')\n",
    "        fig, ax = plt.subplots()\n",
    "        ax = sns.distplot(sentiment_df_weight_0['sentiment'], hist=False, label='Sentimento nella community 0')\n",
    "        ax = sns.distplot(sentiment_df_weight_1['sentiment'], hist=False, label='Sentimento nella community 1')\n",
    "        ax.set_title(title)\n",
    "        ax.set_xlabel('Score sentimento')\n",
    "        ax.set_ylabel('Distribuzione probabilità')\n",
    "        ax.legend()\n",
    "        save_img(title, name)\n",
    "        plt.show()\n",
    "        index += 1"
   ]
  },
  {
   "cell_type": "markdown",
   "metadata": {},
   "source": [
    "## Garimella\n"
   ]
  },
  {
   "cell_type": "code",
   "execution_count": null,
   "metadata": {},
   "outputs": [],
   "source": [
    "os.chdir('/Users/villons/Desktop/echo-chamers/src/data/garimella_data')"
   ]
  },
  {
   "cell_type": "code",
   "execution_count": null,
   "metadata": {},
   "outputs": [],
   "source": [
    "beefban = nx.read_gml('./Graph/beefban.gml')\n",
    "ukraine = nx.read_gml('./Graph/ukraine.gml')\n",
    "kissing_day = nx.read_gml('./Graph/nationalkissingday.gml')"
   ]
  },
  {
   "cell_type": "markdown",
   "metadata": {},
   "source": [
    "#### Pie chart community membership"
   ]
  },
  {
   "cell_type": "code",
   "execution_count": null,
   "metadata": {},
   "outputs": [],
   "source": [
    "community_pie_chart(beefban, 'weightComm', 'BeefBan con approccio strutturale', 'Garimella')\n",
    "community_pie_chart(ukraine, 'weightComm', 'Ukraine con approccio strutturale', 'Garimella')\n",
    "community_pie_chart(kissing_day, 'weightComm', 'Kissingday con approccio strutturale', 'Garimella')"
   ]
  },
  {
   "cell_type": "markdown",
   "metadata": {},
   "source": [
    "## Covid-19"
   ]
  },
  {
   "cell_type": "code",
   "execution_count": null,
   "metadata": {},
   "outputs": [],
   "source": [
    "os.chdir('/Users/villons/Desktop/echo-chamers/src/data/corona_virus')"
   ]
  },
  {
   "cell_type": "code",
   "execution_count": null,
   "metadata": {},
   "outputs": [],
   "source": [
    "covid_compact = nx.read_gml('./Graph/Final_Graph_Covid.gml')\n",
    "covid_complete = nx.read_gml('./Graph/Final_DiGraph_Covid.gml')\n",
    "covid_metadata = nx.read_gml('./Graph/Final_DiGraph_Covid_data.gml')"
   ]
  },
  {
   "cell_type": "code",
   "execution_count": null,
   "metadata": {},
   "outputs": [],
   "source": [
    "covid_19_df = create_graph_df(covid_compact)"
   ]
  },
  {
   "cell_type": "code",
   "execution_count": null,
   "metadata": {},
   "outputs": [],
   "source": [
    "print(nx.info(covid_complete))"
   ]
  },
  {
   "cell_type": "markdown",
   "metadata": {},
   "source": [
    "#### Pie chart community membership"
   ]
  },
  {
   "cell_type": "code",
   "execution_count": null,
   "metadata": {
    "scrolled": true
   },
   "outputs": [],
   "source": [
    "community_pie_chart(covid_compact, 'weightComm', 'COVID-19 con approccio strutturale', 'COVID-19')\n",
    "community_pie_chart(covid_compact, 'sentimentComm', 'COVID-19 con approccio sentiment e strutturale', 'COVID-19')\n",
    "community_pie_chart(covid_compact, 'topicComm', 'COVID-19 con approccio topic e strutturale', 'COVID-19')\n",
    "community_pie_chart(covid_compact, 'hybridComm', 'COVID-19 con approccio ibrido', 'COVID-19')"
   ]
  },
  {
   "cell_type": "markdown",
   "metadata": {},
   "source": [
    "#### Distribution plot different approach"
   ]
  },
  {
   "cell_type": "code",
   "execution_count": null,
   "metadata": {},
   "outputs": [],
   "source": [
    "plot_sentiment_distribution(covid_compact, 'COVID-19', covid_19_df)"
   ]
  },
  {
   "cell_type": "markdown",
   "metadata": {},
   "source": [
    "#### Topic talking"
   ]
  },
  {
   "cell_type": "code",
   "execution_count": null,
   "metadata": {
    "scrolled": true
   },
   "outputs": [],
   "source": [
    "topic_distribution(covid_19_df, 'COVID-19')"
   ]
  },
  {
   "cell_type": "markdown",
   "metadata": {},
   "source": [
    "#### Degree distribution"
   ]
  },
  {
   "cell_type": "code",
   "execution_count": null,
   "metadata": {},
   "outputs": [],
   "source": [
    "plot_degree_distribution(covid_metadata, 'COVID-19')"
   ]
  },
  {
   "cell_type": "code",
   "execution_count": null,
   "metadata": {},
   "outputs": [],
   "source": [
    "medatada_df = pd.DataFrame(columns=['username', 'created', 'defaultProfile', 'DefaultImage', 'description', 'numLikes', 'numFollowers', 'numFollowing', 'numGroups', 'location', 'numStatuses', 'verified', 'community', 'placeholder'])\n",
    "for node in tqdm(covid_complete.nodes(data=True)):\n",
    "    row = [node[0]]\n",
    "    if covid_metadata.nodes[node[0]] != {}:\n",
    "        for medatada in covid_metadata.nodes[node[0]]:\n",
    "            row += [covid_metadata.nodes[node[0]][medatada]]\n",
    "    else:\n",
    "        row += [np.nan]*(len(medatada_df.columns)-2)\n",
    "        \n",
    "    row += [node[1]['sentimentComm']]\n",
    "    row += ['']\n",
    "    \n",
    "    medatada_df.loc[len(medatada_df)] = row"
   ]
  },
  {
   "cell_type": "code",
   "execution_count": null,
   "metadata": {},
   "outputs": [],
   "source": [
    "medatada_df.dropna(axis='index', how='any', inplace=True)\n"
   ]
  },
  {
   "cell_type": "code",
   "execution_count": null,
   "metadata": {},
   "outputs": [],
   "source": [
    "medatada_df['numFollowers'] = medatada_df['numFollowers'].apply(lambda x: float(x))"
   ]
  },
  {
   "cell_type": "code",
   "execution_count": null,
   "metadata": {},
   "outputs": [],
   "source": [
    "medatada_df['numLikes'] = medatada_df['numFollowers'].apply(lambda x: float(x))"
   ]
  },
  {
   "cell_type": "code",
   "execution_count": null,
   "metadata": {},
   "outputs": [],
   "source": [
    "numFollowers = medatada_df['numFollowers']\n",
    "removed_outliers = numFollowers.between(numFollowers.quantile(.25), numFollowers.quantile(.75))\n",
    "index_names = numFollowers[~removed_outliers].index\n",
    "medatada_df.drop(index_names, inplace=True)"
   ]
  },
  {
   "cell_type": "code",
   "execution_count": null,
   "metadata": {},
   "outputs": [],
   "source": [
    "sns.violinplot(y ='numLikes', hue='community', data=medatada_df, inner='quartile', split=True, scale='count', bw=0.1)"
   ]
  },
  {
   "cell_type": "markdown",
   "metadata": {},
   "source": [
    "## Vax"
   ]
  },
  {
   "cell_type": "code",
   "execution_count": null,
   "metadata": {},
   "outputs": [],
   "source": [
    "os.chdir('/Users/villons/Desktop/echo-chamers/src/data/vax_no_vax')"
   ]
  },
  {
   "cell_type": "code",
   "execution_count": null,
   "metadata": {},
   "outputs": [],
   "source": [
    "vax_compact = nx.read_gml('Graph/Final_Graph_vax.gml')\n",
    "vax_complete = nx.read_gml('Graph/Final_DiGraph_Vax.gml')"
   ]
  },
  {
   "cell_type": "code",
   "execution_count": null,
   "metadata": {},
   "outputs": [],
   "source": [
    "print(nx.info(vax_complete))"
   ]
  },
  {
   "cell_type": "code",
   "execution_count": null,
   "metadata": {},
   "outputs": [],
   "source": [
    "vaccination_df = create_graph_df(vax_compact)"
   ]
  },
  {
   "cell_type": "code",
   "execution_count": null,
   "metadata": {},
   "outputs": [],
   "source": [
    "print(nx.info(vax_complete))"
   ]
  },
  {
   "cell_type": "markdown",
   "metadata": {},
   "source": [
    "#### Pie chart community membership"
   ]
  },
  {
   "cell_type": "code",
   "execution_count": null,
   "metadata": {},
   "outputs": [],
   "source": [
    "community_pie_chart(vax_compact, 'weightComm', 'Vaccinazioni con approccio strutturale', 'Vaccination')\n",
    "community_pie_chart(vax_compact, 'sentimentComm', 'Vaccinazioni con approccio sentiment e strutturale', 'Vaccination')\n",
    "community_pie_chart(vax_compact, 'topicComm', 'Vaccinazioni con approccio topic e strutturale', 'Vaccination')\n",
    "community_pie_chart(vax_compact, 'hybridComm', 'Vaccinazioni con approccio ibrido', 'Vaccination')"
   ]
  },
  {
   "cell_type": "markdown",
   "metadata": {},
   "source": [
    "#### Distribution plot different approach"
   ]
  },
  {
   "cell_type": "code",
   "execution_count": null,
   "metadata": {},
   "outputs": [],
   "source": [
    "plot_sentiment_distribution(vax_compact, 'Vaccination', vaccination_df)"
   ]
  },
  {
   "cell_type": "markdown",
   "metadata": {},
   "source": [
    "#### Topic talking"
   ]
  },
  {
   "cell_type": "code",
   "execution_count": null,
   "metadata": {},
   "outputs": [],
   "source": [
    "topic_distribution(vaccination_df, 'Vaccination')"
   ]
  },
  {
   "cell_type": "markdown",
   "metadata": {},
   "source": [
    "#### Degree distribution"
   ]
  }
 ],
 "metadata": {
  "kernelspec": {
   "display_name": "echo-chamber",
   "language": "python",
   "name": "echo-chamber"
  },
  "language_info": {
   "codemirror_mode": {
    "name": "ipython",
    "version": 3
   },
   "file_extension": ".py",
   "mimetype": "text/x-python",
   "name": "python",
   "nbconvert_exporter": "python",
   "pygments_lexer": "ipython3",
   "version": "3.7.7"
  }
 },
 "nbformat": 4,
 "nbformat_minor": 4
}
