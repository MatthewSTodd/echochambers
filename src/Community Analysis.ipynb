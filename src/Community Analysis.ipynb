{
 "cells": [
  {
   "cell_type": "markdown",
   "metadata": {},
   "source": [
    "## Libraries"
   ]
  },
  {
   "cell_type": "code",
   "execution_count": 17,
   "metadata": {},
   "outputs": [],
   "source": [
    "import networkx as nx\n",
    "import os\n",
    "import seaborn as sns\n",
    "import numpy as np\n",
    "import pandas as pd\n",
    "import matplotlib.pyplot as plt\n",
    "from tqdm.notebook import tqdm\n",
    "import ast\n",
    "\n",
    "# allowing the plot in line for seaborn\n",
    "%matplotlib inline\n",
    "plt.style.use('seaborn')\n",
    "\n",
    "# enabling outlines line in histogram \n",
    "plt.rcParams[\"patch.force_edgecolor\"] = True"
   ]
  },
  {
   "cell_type": "markdown",
   "metadata": {},
   "source": [
    "## Function"
   ]
  },
  {
   "cell_type": "code",
   "execution_count": 12,
   "metadata": {},
   "outputs": [],
   "source": [
    "def save_img(title, name):    \n",
    "    plt.savefig(f'/Users/villons/Desktop/echo-chamers/src/analysis_images/{name}/{title}.png', \n",
    "                dpi = 300, quality = 95, format = 'png', pad_inches = 1000)\n",
    "    \n",
    "def community_pie_chart(graph, comm_type, name, study):\n",
    "    \n",
    "    communities = dict()\n",
    "    for node in graph.nodes(data=True):\n",
    "        if not(f'Comunità: {node[1][comm_type]}' in communities):\n",
    "            communities[f'Comunità: {node[1][comm_type]}'] = 1\n",
    "        else:\n",
    "            communities[f'Comunità: {node[1][comm_type]}'] += 1\n",
    "            \n",
    "            \n",
    "    com = list(communities.keys())\n",
    "    com_comp = list(communities.values())\n",
    "    colors = ['#0045b5', '#b50000']\n",
    "    if com[0] != 'Comunità: 1':\n",
    "        com[0], com[1] = com[1], com[0]\n",
    "        com_comp[0], com_comp[1] = com_comp[1], com_comp[0]\n",
    "\n",
    "    print(communities)\n",
    "    \n",
    "    fig, ax = plt.subplots()\n",
    "    ax.pie(com_comp, labels = com, explode = [0, 0.1], shadow=True,\n",
    "        startangle = 90, colors = colors, wedgeprops={'edgecolor': 'black'})\n",
    "    ax.set_title(f'Suddivisione community per {name}')\n",
    "    save_img(f'Suddivisione community per {name}', study)\n",
    "    plt.show() \n",
    "    \n",
    "def plot_sentiment_distribution(compact_graph, name, sentiment_df):\n",
    "    \n",
    "    fig, ax = plt.subplots()\n",
    "    ax = sns.distplot(sentiment_df['sentiment'], hist=False, label='Sentimento su intero grafo')\n",
    "    title = f'Distribuzione sentiment su grafo {name}'\n",
    "    ax.set_title(title)\n",
    "    ax.set_xlabel('Score sentimento')\n",
    "    ax.set_ylabel('Distribuzione probabilità')\n",
    "    ax.legend()\n",
    "    save_img(title, name)\n",
    "    plt.show()\n",
    "    \n",
    "    columns = sentiment_df.columns[1:]\n",
    "    \n",
    "    titles = ['strutturale', 'sentiment', 'topic', 'hybrid']\n",
    "    index = 0\n",
    "    for column in columns:\n",
    "        title = f'Distribuzione sentimento nelle communities dato approccio {titles[index]}'\n",
    "        sentiment_df_weight_0 = sentiment_df.query(f'{column} == 0')\n",
    "        sentiment_df_weight_1 = sentiment_df.query(f'{column} == 1')\n",
    "        fig, ax = plt.subplots()\n",
    "        ax = sns.distplot(sentiment_df_weight_0['sentiment'], hist=False, label='Sentimento nella community 0')\n",
    "        ax = sns.distplot(sentiment_df_weight_1['sentiment'], hist=False, label='Sentimento nella community 1')\n",
    "        ax.set_title(title)\n",
    "        ax.set_xlabel('Score sentimento')\n",
    "        ax.set_ylabel('Distribuzione probabilità')\n",
    "        ax.legend()\n",
    "        save_img(title, name)\n",
    "        plt.show()\n",
    "        index += 1\n",
    "        \n",
    "def create_graph_df(graph):\n",
    "    graph_df = pd.DataFrame(columns=['sentiment', 'weightComm', 'sentimentComm', 'topicComm', 'hybridComm', 'tweetTopic'])\n",
    "    for node in tqdm(graph.nodes(data=True)):\n",
    "        new_row = [node[1]['sentiment'], node[1]['weightComm'], node[1]['sentimentComm'],\n",
    "                   node[1]['topicComm'], node[1]['hybridComm'], node[1]['tweetTopic']]\n",
    "        graph_df.loc[len(graph_df)] = new_row\n",
    "    return graph_df"
   ]
  },
  {
   "cell_type": "markdown",
   "metadata": {},
   "source": [
    "## Garimella\n"
   ]
  },
  {
   "cell_type": "code",
   "execution_count": null,
   "metadata": {},
   "outputs": [],
   "source": [
    "os.chdir('/Users/villons/Desktop/echo-chamers/src/data/garimella_data')"
   ]
  },
  {
   "cell_type": "code",
   "execution_count": null,
   "metadata": {},
   "outputs": [],
   "source": [
    "beefban = nx.read_gml('./Graph/beefban.gml')\n",
    "ukraine = nx.read_gml('./Graph/ukraine.gml')\n",
    "kissing_day = nx.read_gml('./Graph/nationalkissingday.gml')"
   ]
  },
  {
   "cell_type": "markdown",
   "metadata": {},
   "source": [
    "#### Pie chart community membership"
   ]
  },
  {
   "cell_type": "code",
   "execution_count": null,
   "metadata": {},
   "outputs": [],
   "source": [
    "community_pie_chart(beefban, 'weightComm', 'BeefBan con approccio strutturale', 'Garimella')\n",
    "community_pie_chart(ukraine, 'weightComm', 'Ukraine con approccio strutturale', 'Garimella')\n",
    "community_pie_chart(kissing_day, 'weightComm', 'Kissingday con approccio strutturale', 'Garimella')"
   ]
  },
  {
   "cell_type": "markdown",
   "metadata": {},
   "source": [
    "## Covid-19"
   ]
  },
  {
   "cell_type": "code",
   "execution_count": 4,
   "metadata": {},
   "outputs": [],
   "source": [
    "os.chdir('/Users/villons/Desktop/echo-chamers/src/data/corona_virus')"
   ]
  },
  {
   "cell_type": "code",
   "execution_count": 5,
   "metadata": {},
   "outputs": [],
   "source": [
    "covid_compact = nx.read_gml('./Graph/Final_Graph_Covid.gml')\n",
    "covid_complete = nx.read_gml('./Graph/Final_DiGraph_Covid.gml')\n",
    "covid_metadata = nx.read_gml('./Graph/Final_DiGraph_Covid_data.gml')"
   ]
  },
  {
   "cell_type": "code",
   "execution_count": 13,
   "metadata": {},
   "outputs": [
    {
     "data": {
      "application/vnd.jupyter.widget-view+json": {
       "model_id": "539ff33ffaa3456da8e5ed3add8a3b9f",
       "version_major": 2,
       "version_minor": 0
      },
      "text/plain": [
       "HBox(children=(FloatProgress(value=0.0, max=23807.0), HTML(value='')))"
      ]
     },
     "metadata": {},
     "output_type": "display_data"
    },
    {
     "name": "stdout",
     "output_type": "stream",
     "text": [
      "\n"
     ]
    }
   ],
   "source": [
    "covid_19_df = create_graph_df(covid_compact)"
   ]
  },
  {
   "cell_type": "markdown",
   "metadata": {},
   "source": [
    "#### Pie chart community membership"
   ]
  },
  {
   "cell_type": "code",
   "execution_count": null,
   "metadata": {},
   "outputs": [],
   "source": [
    "community_pie_chart(covid_compact, 'weightComm', 'COVID-19 con approccio strutturale', 'COVID-19')\n",
    "community_pie_chart(covid_compact, 'sentimentComm', 'COVID-19 con approccio sentiment e strutturale', 'COVID-19')\n",
    "community_pie_chart(covid_compact, 'topicComm', 'COVID-19 con approccio topic e strutturale', 'COVID-19')\n",
    "community_pie_chart(covid_compact, 'hybridComm', 'COVID-19 con approccio ibrido', 'COVID-19')"
   ]
  },
  {
   "cell_type": "markdown",
   "metadata": {},
   "source": [
    "#### Distribution plot different approach"
   ]
  },
  {
   "cell_type": "code",
   "execution_count": null,
   "metadata": {},
   "outputs": [],
   "source": [
    "plot_sentiment_distribution(covid_compact, 'COVID-19', covid_19_df)"
   ]
  },
  {
   "cell_type": "markdown",
   "metadata": {},
   "source": [
    "#### Topic talking"
   ]
  },
  {
   "cell_type": "code",
   "execution_count": 32,
   "metadata": {},
   "outputs": [
    {
     "data": {
      "text/plain": [
       "Index(['sentiment', 'weightComm', 'sentimentComm', 'topicComm', 'hybridComm',\n",
       "       'tweetTopic'],\n",
       "      dtype='object')"
      ]
     },
     "execution_count": 32,
     "metadata": {},
     "output_type": "execute_result"
    }
   ],
   "source": [
    "covid_19_df.columns"
   ]
  },
  {
   "cell_type": "code",
   "execution_count": 33,
   "metadata": {},
   "outputs": [],
   "source": [
    "def add_to_dictionary(dictionary, key):\n",
    "    if key in dictionary:\n",
    "        dictionary[key] += 1\n",
    "    else:\n",
    "        dictionary[key] = 1\n",
    "    return dictionary"
   ]
  },
  {
   "cell_type": "code",
   "execution_count": 60,
   "metadata": {},
   "outputs": [],
   "source": [
    "topic_cont = dict()\n",
    "topic_cont_0 = dict()\n",
    "topic_cont_1 = dict()\n",
    "for _, row in covid_19_df.iterrows():\n",
    "    topics = ast.literal_eval(row['tweetTopic'])\n",
    "    community = row['weightComm']\n",
    "    for topic in topics:\n",
    "        topic_cont = add_to_dictionary(topic_cont, topic)\n",
    "        if community == 0:\n",
    "            topic_cont_0 = add_to_dictionary(topic_cont_0, topic)\n",
    "        else:\n",
    "            topic_cont_1 = add_to_dictionary(topic_cont_1, topic)"
   ]
  },
  {
   "cell_type": "code",
   "execution_count": 61,
   "metadata": {},
   "outputs": [],
   "source": [
    "topic_cont = dict(sorted(topic_cont.items()))\n",
    "topic_cont_0 = dict(sorted(topic_cont_0.items()))\n",
    "topic_cont_1 = dict(sorted(topic_cont_1.items()))"
   ]
  },
  {
   "cell_type": "code",
   "execution_count": 62,
   "metadata": {},
   "outputs": [
    {
     "data": {
      "image/png": "[encoded data removed]",
      "text/plain": [
       "<Figure size 1332x756 with 1 Axes>"
      ]
     },
     "metadata": {},
     "output_type": "display_data"
    }
   ],
   "source": [
    "width = 0.25\n",
    "fig, ax = plt.subplots()\n",
    "fig.set_size_inches(18.5, 10.5)\n",
    "x_indexes = np.arange(1, len(topic_cont)+1)\n",
    "ax.bar(x_indexes - width, topic_cont.values(), width = width, color = '#444444', label = 'Su tutto il grafo')\n",
    "ax.bar(x_indexes, topic_cont_0.values(), width = width, color = '#5a7d9a', label = 'Community 0')\n",
    "ax.bar(x_indexes + width, topic_cont_1.values(), width = width, color = '#adad3b', label = 'Community 1')\n",
    "plt.xticks(ticks=x_indexes, labels=x_indexes)\n",
    "ax.legend()\n",
    "plt.show()"
   ]
  },
  {
   "cell_type": "code",
   "execution_count": 55,
   "metadata": {},
   "outputs": [
    {
     "data": {
      "image/png": "[encoded data removed]",
      "text/plain": [
       "<Figure size 1332x756 with 1 Axes>"
      ]
     },
     "metadata": {},
     "output_type": "display_data"
    }
   ],
   "source": [
    "width = 0.25\n",
    "fig, ax = plt.subplots()\n",
    "fig.set_size_inches(18.5, 10.5)\n",
    "x_indexes = np.arange(1, len(topic_cont)+1)\n",
    "ax.bar(x_indexes - width, topic_cont.values(), width = width, color = '#444444', label = 'Su tutto il grafo')\n",
    "ax.bar(x_indexes, topic_cont_0.values(), width = width, color = '#5a7d9a', label = 'Community 0')\n",
    "ax.bar(x_indexes + width, topic_cont_1.values(), width = width, color = '#adad3b', label = 'Community 1')\n",
    "plt.xticks(ticks=x_indexes, labels=x_indexes)\n",
    "ax.legend()\n",
    "plt.show()"
   ]
  },
  {
   "cell_type": "markdown",
   "metadata": {},
   "source": [
    "## Vax"
   ]
  },
  {
   "cell_type": "code",
   "execution_count": null,
   "metadata": {},
   "outputs": [],
   "source": [
    "os.chdir('/Users/villons/Desktop/echo-chamers/src/data/vax_no_vax')"
   ]
  },
  {
   "cell_type": "code",
   "execution_count": null,
   "metadata": {},
   "outputs": [],
   "source": [
    "vax_compact = nx.read_gml('Graph/Final_Graph_vax.gml')\n",
    "vax_complete = nx.read_gml('Graph/Final_DiGraph_Vax.gml')"
   ]
  },
  {
   "cell_type": "markdown",
   "metadata": {},
   "source": [
    "#### Pie chart community membership"
   ]
  },
  {
   "cell_type": "code",
   "execution_count": null,
   "metadata": {},
   "outputs": [],
   "source": [
    "community_pie_chart(vax_compact, 'weightComm', 'Vaccinazioni con approccio strutturale', 'Vaccination')\n",
    "community_pie_chart(vax_compact, 'sentimentComm', 'Vaccinazioni con approccio sentiment e strutturale', 'Vaccination')\n",
    "community_pie_chart(vax_compact, 'topicComm', 'Vaccinazioni con approccio topic e strutturale', 'Vaccination')\n",
    "community_pie_chart(vax_compact, 'hybridComm', 'Vaccinazioni con approccio ibrido', 'Vaccination')"
   ]
  },
  {
   "cell_type": "markdown",
   "metadata": {},
   "source": [
    "#### Distribution plot different approach"
   ]
  },
  {
   "cell_type": "code",
   "execution_count": null,
   "metadata": {},
   "outputs": [],
   "source": [
    "plot_sentiment_distribution(vax_compact, 'Vaccination')"
   ]
  },
  {
   "cell_type": "code",
   "execution_count": null,
   "metadata": {},
   "outputs": [],
   "source": []
  }
 ],
 "metadata": {
  "kernelspec": {
   "display_name": "echo-chamber",
   "language": "python",
   "name": "echo-chamber"
  },
  "language_info": {
   "codemirror_mode": {
    "name": "ipython",
    "version": 3
   },
   "file_extension": ".py",
   "mimetype": "text/x-python",
   "name": "python",
   "nbconvert_exporter": "python",
   "pygments_lexer": "ipython3",
   "version": "3.7.7"
  }
 },
 "nbformat": 4,
 "nbformat_minor": 4
}
